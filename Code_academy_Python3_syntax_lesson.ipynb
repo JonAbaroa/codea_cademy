{
  "nbformat": 4,
  "nbformat_minor": 0,
  "metadata": {
    "colab": {
      "name": "Code_academy_Python3_syntax_lesson.ipynb",
      "provenance": [],
      "collapsed_sections": [
        "Zc8jJ3-TX-uY",
        "shXkED5HVYxM",
        "NusTtzq9V176",
        "Iyzg3u7yYTYp",
        "Xi8D7a_SYi5-",
        "6zndcLZ4Y-pw",
        "vnQVygSKZM11",
        "rFEez_u-Zsy0",
        "f9Bu435sa2Tt",
        "AugqZIkca4O-",
        "Z199OXqkfghU"
      ],
      "authorship_tag": "ABX9TyPAHxs+GRQtuQjOv1aQbSHe",
      "include_colab_link": true
    },
    "kernelspec": {
      "name": "python3",
      "display_name": "Python 3"
    }
  },
  "cells": [
    {
      "cell_type": "markdown",
      "metadata": {
        "id": "view-in-github",
        "colab_type": "text"
      },
      "source": [
        "<a href=\"https://colab.research.google.com/github/JonAbaroa/codea_cademy/blob/master/Code_academy_Python3_syntax_lesson.ipynb\" target=\"_parent\"><img src=\"https://colab.research.google.com/assets/colab-badge.svg\" alt=\"Open In Colab\"/></a>"
      ]
    },
    {
      "cell_type": "markdown",
      "metadata": {
        "id": "N1jWZQN_McxR",
        "colab_type": "text"
      },
      "source": [
        "**Learn Python: Syntax**\n",
        "\n",
        "In this course we’ll learn about the syntax of the Python programming language! We will go over fundamental commands that store variables, print messages, and perform mathematical operations."
      ]
    },
    {
      "cell_type": "code",
      "metadata": {
        "id": "I8iI_ootMTjv",
        "colab_type": "code",
        "colab": {
          "base_uri": "https://localhost:8080/",
          "height": 50
        },
        "outputId": "a6d2fbbf-4b26-48b9-c61c-1e324d5c187a"
      },
      "source": [
        "my_name = \"jon iñaki abaroa schilling\"\n",
        "print(\"Hello and welcome \" + my_name + \"!\")\n",
        "print(\"Hello and welcome \" , my_name , \"!\")"
      ],
      "execution_count": 2,
      "outputs": [
        {
          "output_type": "stream",
          "text": [
            "Hello and welcome jon iñaki abaroa schilling!\n",
            "Hello and welcome  jon iñaki abaroa schilling !\n"
          ],
          "name": "stdout"
        }
      ]
    },
    {
      "cell_type": "markdown",
      "metadata": {
        "id": "Zc8jJ3-TX-uY",
        "colab_type": "text"
      },
      "source": [
        "# **Comments**"
      ]
    },
    {
      "cell_type": "code",
      "metadata": {
        "id": "8p3FeJhHVF4n",
        "colab_type": "code",
        "colab": {}
      },
      "source": [
        "# This variable will be used to count the number of times anyone tweets the word persnickety\n",
        "persnickety_count = 0"
      ],
      "execution_count": null,
      "outputs": []
    },
    {
      "cell_type": "code",
      "metadata": {
        "id": "uo1UBYh8VI7U",
        "colab_type": "code",
        "colab": {}
      },
      "source": [
        "# This code will calculate the likelihood that it will rain tomorrow\n",
        "complicated_rain_calculation_for_tomorrow()"
      ],
      "execution_count": null,
      "outputs": []
    },
    {
      "cell_type": "code",
      "metadata": {
        "id": "E8i38EjoVSUL",
        "colab_type": "code",
        "colab": {}
      },
      "source": [
        "# useful_value = old_sloppy_code()\n",
        "useful_value = new_clean_code()"
      ],
      "execution_count": null,
      "outputs": []
    },
    {
      "cell_type": "markdown",
      "metadata": {
        "id": "shXkED5HVYxM",
        "colab_type": "text"
      },
      "source": [
        "# **Print**"
      ]
    },
    {
      "cell_type": "code",
      "metadata": {
        "id": "X0LWHH8OVdWE",
        "colab_type": "code",
        "colab": {
          "base_uri": "https://localhost:8080/",
          "height": 33
        },
        "outputId": "cd5d3b6b-92d8-48c9-95f0-85f9e0a79efc"
      },
      "source": [
        "# from Mary Shelley's Frankenstein\n",
        "print(\"There is something at work in my soul, which I do not understand.\")"
      ],
      "execution_count": 4,
      "outputs": [
        {
          "output_type": "stream",
          "text": [
            "There is something at work in my soul, which I do not understand.\n"
          ],
          "name": "stdout"
        }
      ]
    },
    {
      "cell_type": "code",
      "metadata": {
        "id": "_RAiEel1VltN",
        "colab_type": "code",
        "colab": {
          "base_uri": "https://localhost:8080/",
          "height": 66
        },
        "outputId": "d39a5a6e-7d52-42f1-cea9-4332b18d102a"
      },
      "source": [
        "print('line1 \\n\\nline3')"
      ],
      "execution_count": 7,
      "outputs": [
        {
          "output_type": "stream",
          "text": [
            "line1 \n",
            "\n",
            "line3\n"
          ],
          "name": "stdout"
        }
      ]
    },
    {
      "cell_type": "markdown",
      "metadata": {
        "id": "NusTtzq9V176",
        "colab_type": "text"
      },
      "source": [
        "# **Strings**"
      ]
    },
    {
      "cell_type": "code",
      "metadata": {
        "id": "VJuVTb3fV3JL",
        "colab_type": "code",
        "colab": {}
      },
      "source": [
        "print(\"jon\")"
      ],
      "execution_count": null,
      "outputs": []
    },
    {
      "cell_type": "code",
      "metadata": {
        "id": "7RGWLALqWQgq",
        "colab_type": "code",
        "colab": {}
      },
      "source": [
        "# Greeting\n",
        "message_string = \"Hello there\"\n",
        "print(message_string)\n",
        "\n",
        "# Farewell\n",
        "message_string = \"Hasta la vista\"\n",
        "print(message_string)"
      ],
      "execution_count": null,
      "outputs": []
    },
    {
      "cell_type": "markdown",
      "metadata": {
        "id": "Iyzg3u7yYTYp",
        "colab_type": "text"
      },
      "source": [
        "# **Variables**"
      ]
    },
    {
      "cell_type": "code",
      "metadata": {
        "id": "B_aNVRuMX4bQ",
        "colab_type": "code",
        "colab": {}
      },
      "source": [
        "message_string = \"Hello there\"\n",
        "# Prints \"Hello there\"\n",
        "print(message_string)"
      ],
      "execution_count": null,
      "outputs": []
    },
    {
      "cell_type": "markdown",
      "metadata": {
        "id": "Xi8D7a_SYi5-",
        "colab_type": "text"
      },
      "source": [
        "# **Numbers**"
      ]
    },
    {
      "cell_type": "code",
      "metadata": {
        "id": "5LHw5iXvY1eX",
        "colab_type": "code",
        "colab": {}
      },
      "source": [
        "an_int = 2\n",
        "a_float = 2.1\n",
        "\n",
        "print(an_int + 3)\n",
        "# prints 5"
      ],
      "execution_count": null,
      "outputs": []
    },
    {
      "cell_type": "markdown",
      "metadata": {
        "id": "6zndcLZ4Y-pw",
        "colab_type": "text"
      },
      "source": [
        "# **Calculations**"
      ]
    },
    {
      "cell_type": "code",
      "metadata": {
        "id": "1xqhv3HkZCKH",
        "colab_type": "code",
        "colab": {}
      },
      "source": [
        "# Prints \"500\"\n",
        "print(573 - 74 + 1)\n",
        "\n",
        "# Prints \"50\"\n",
        "print(25 * 2)\n",
        "\n",
        "# Prints \"2.0\"\n",
        "print(10 / 5)"
      ],
      "execution_count": null,
      "outputs": []
    },
    {
      "cell_type": "markdown",
      "metadata": {
        "id": "vnQVygSKZM11",
        "colab_type": "text"
      },
      "source": [
        "# **Changing Numbers**\n",
        "\n"
      ]
    },
    {
      "cell_type": "code",
      "metadata": {
        "id": "Defp316cZe9_",
        "colab_type": "code",
        "colab": {
          "base_uri": "https://localhost:8080/",
          "height": 116
        },
        "outputId": "766a20ff-fdfa-4349-cafa-ce2efa8bf7b7"
      },
      "source": [
        "coffee_price = 1.50\n",
        "number_of_coffees = 4\n",
        "\n",
        "# Prints \"6.0\"\n",
        "print(coffee_price * number_of_coffees)\n",
        "# Prints \"1.5\"\n",
        "print(coffee_price)\n",
        "# Prints \"4\"\n",
        "print(number_of_coffees)\n",
        "\n",
        "# Updating the price \n",
        "coffee_price = 2.00\n",
        "\n",
        "# Prints \"8.0\"\n",
        "print(coffee_price * number_of_coffees)\n",
        "# Prints \"2.0\"\n",
        "print(coffee_price)\n",
        "# Prints \"4\"\n",
        "print(number_of_coffees)"
      ],
      "execution_count": 8,
      "outputs": [
        {
          "output_type": "stream",
          "text": [
            "6.0\n",
            "1.5\n",
            "4\n",
            "8.0\n",
            "2.0\n",
            "4\n"
          ],
          "name": "stdout"
        }
      ]
    },
    {
      "cell_type": "markdown",
      "metadata": {
        "id": "rFEez_u-Zsy0",
        "colab_type": "text"
      },
      "source": [
        "# **Exponents**"
      ]
    },
    {
      "cell_type": "code",
      "metadata": {
        "id": "VfwRasa6ZvIO",
        "colab_type": "code",
        "colab": {}
      },
      "source": [
        "# 2 to the 10th power, or 1024\n",
        "print(2 ** 10)\n",
        "\n",
        "# 8 squared, or 64\n",
        "print(8 ** 2)\n",
        "\n",
        "# 9 * 9 * 9, 9 cubed, or 729\n",
        "print(9 ** 3)\n",
        "\n",
        "# We can even perform fractional exponents\n",
        "# 4 to the half power, or 2\n",
        "print(4 ** 0.5)"
      ],
      "execution_count": null,
      "outputs": []
    },
    {
      "cell_type": "markdown",
      "metadata": {
        "id": "f9Bu435sa2Tt",
        "colab_type": "text"
      },
      "source": [
        "# **Modulo**"
      ]
    },
    {
      "cell_type": "code",
      "metadata": {
        "id": "lfdjpG3aa7Bz",
        "colab_type": "code",
        "colab": {}
      },
      "source": [
        "my_team = 29 % 5\n",
        "\n",
        "print(my_team)"
      ],
      "execution_count": null,
      "outputs": []
    },
    {
      "cell_type": "markdown",
      "metadata": {
        "id": "AugqZIkca4O-",
        "colab_type": "text"
      },
      "source": [
        "# **Concatenation**"
      ]
    },
    {
      "cell_type": "code",
      "metadata": {
        "id": "95KyS80Jb_XY",
        "colab_type": "code",
        "colab": {
          "base_uri": "https://localhost:8080/",
          "height": 33
        },
        "outputId": "c9f2f27e-2bad-45a3-d62e-9e5b967391b4"
      },
      "source": [
        "greeting_text = \"Hey there!\"\n",
        "question_text = \"How are you doing?\"\n",
        "full_text = greeting_text + question_text\n",
        "\n",
        "# Prints \"Hey there!How are you doing?\"\n",
        "print(full_text)"
      ],
      "execution_count": 9,
      "outputs": [
        {
          "output_type": "stream",
          "text": [
            "Hey there!How are you doing?\n"
          ],
          "name": "stdout"
        }
      ]
    },
    {
      "cell_type": "code",
      "metadata": {
        "id": "8KDzi6ppfEPp",
        "colab_type": "code",
        "colab": {
          "base_uri": "https://localhost:8080/",
          "height": 33
        },
        "outputId": "387b13d5-0a3d-4d2c-ece0-9c5a3c070ef6"
      },
      "source": [
        "full_text = greeting_text + \" \" + question_text\n",
        "\n",
        "# Prints \"Hey there! How are you doing?\"\n",
        "print(full_text)"
      ],
      "execution_count": 10,
      "outputs": [
        {
          "output_type": "stream",
          "text": [
            "Hey there! How are you doing?\n"
          ],
          "name": "stdout"
        }
      ]
    },
    {
      "cell_type": "code",
      "metadata": {
        "id": "E0dcVPxzfV0L",
        "colab_type": "code",
        "colab": {
          "base_uri": "https://localhost:8080/",
          "height": 50
        },
        "outputId": "8947c64d-6956-4611-d216-b0b2d02fc1e5"
      },
      "source": [
        "birthday_string = \"I am \"\n",
        "age = 10\n",
        "birthday_string_2 = \" years old today!\"\n",
        "\n",
        "# Concatenating an integer with strings is possible if we turn the integer into a string first\n",
        "full_birthday_string = birthday_string + str(age) + birthday_string_2\n",
        "\n",
        "# Prints \"I am 10 years old today!\"\n",
        "print(full_birthday_string)\n",
        "\n",
        "# If we just want to print an integer \n",
        "# we can pass a variable as an argument to \n",
        "# print() regardless of whether \n",
        "# it is a string.\n",
        "\n",
        "# This also prints \"I am 10 years old today!\"\n",
        "print(birthday_string, age, birthday_string_2)"
      ],
      "execution_count": 11,
      "outputs": [
        {
          "output_type": "stream",
          "text": [
            "I am 10 years old today!\n",
            "I am  10  years old today!\n"
          ],
          "name": "stdout"
        }
      ]
    },
    {
      "cell_type": "markdown",
      "metadata": {
        "id": "Z199OXqkfghU",
        "colab_type": "text"
      },
      "source": [
        "# **Plus Equals**"
      ]
    },
    {
      "cell_type": "code",
      "metadata": {
        "id": "Otj5VI5RfiHh",
        "colab_type": "code",
        "colab": {
          "base_uri": "https://localhost:8080/",
          "height": 33
        },
        "outputId": "273b858a-99dc-401c-f7a4-392860d8729a"
      },
      "source": [
        "# First we have a variable with a number saved\n",
        "number_of_miles_hiked = 12\n",
        "\n",
        "# Then we need to update that variable\n",
        "# Let's say we hike another two miles today\n",
        "number_of_miles_hiked += 2\n",
        "\n",
        "# The new value is the old value\n",
        "# Plus the number after the plus-equals\n",
        "print(number_of_miles_hiked)\n",
        "# Prints 14"
      ],
      "execution_count": 12,
      "outputs": [
        {
          "output_type": "stream",
          "text": [
            "14\n"
          ],
          "name": "stdout"
        }
      ]
    },
    {
      "cell_type": "code",
      "metadata": {
        "id": "Lsoe7Mvwf_VB",
        "colab_type": "code",
        "colab": {
          "base_uri": "https://localhost:8080/",
          "height": 33
        },
        "outputId": "a2fa25cc-d455-4715-b37a-56d5b4652a67"
      },
      "source": [
        "hike_caption = \"What an amazing time to walk through nature!\"\n",
        "\n",
        "# Almost forgot the hashtags!\n",
        "hike_caption += \" #nofilter\"\n",
        "hike_caption += \" #blessed\"\n",
        "\n",
        "print(hike_caption)"
      ],
      "execution_count": 14,
      "outputs": [
        {
          "output_type": "stream",
          "text": [
            "What an amazing time to walk through nature! #nofilter #blessed\n"
          ],
          "name": "stdout"
        }
      ]
    },
    {
      "cell_type": "markdown",
      "metadata": {
        "id": "NQDU6FhzgLC_",
        "colab_type": "text"
      },
      "source": [
        "# **Multi-line Strings**"
      ]
    },
    {
      "cell_type": "code",
      "metadata": {
        "id": "GLAu-TVVgM0h",
        "colab_type": "code",
        "colab": {
          "base_uri": "https://localhost:8080/",
          "height": 133
        },
        "outputId": "43325ae0-47ab-49f0-b704-dc66101ec791"
      },
      "source": [
        "leaves_of_grass = \"\"\"\n",
        "Poets to come! orators, singers, musicians to come!\n",
        "Not to-day is to justify me and answer what I am for,\n",
        "But you, a new brood, native, athletic, continental, greater than\n",
        "  before known,\n",
        "Arouse! for you must justify me.\n",
        "\"\"\"\n",
        "\n",
        "print(leaves_of_grass)"
      ],
      "execution_count": 15,
      "outputs": [
        {
          "output_type": "stream",
          "text": [
            "\n",
            "Poets to come! orators, singers, musicians to come!\n",
            "Not to-day is to justify me and answer what I am for,\n",
            "But you, a new brood, native, athletic, continental, greater than\n",
            "  before known,\n",
            "Arouse! for you must justify me.\n",
            "\n"
          ],
          "name": "stdout"
        }
      ]
    }
  ]
}
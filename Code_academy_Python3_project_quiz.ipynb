{
  "nbformat": 4,
  "nbformat_minor": 0,
  "metadata": {
    "colab": {
      "name": "Code_academy_Python3_project_quiz.ipynb",
      "provenance": [],
      "collapsed_sections": [
        "y3liZL1ahhcj"
      ],
      "authorship_tag": "ABX9TyM3ZL/WN9w/F1CfVEEG+Jtv",
      "include_colab_link": true
    },
    "kernelspec": {
      "name": "python3",
      "display_name": "Python 3"
    }
  },
  "cells": [
    {
      "cell_type": "markdown",
      "metadata": {
        "id": "view-in-github",
        "colab_type": "text"
      },
      "source": [
        "<a href=\"https://colab.research.google.com/github/JonAbaroa/codea_cademy/blob/master/Code_academy_Python3_project_quiz.ipynb\" target=\"_parent\"><img src=\"https://colab.research.google.com/assets/colab-badge.svg\" alt=\"Open In Colab\"/></a>"
      ]
    },
    {
      "cell_type": "markdown",
      "metadata": {
        "id": "y3liZL1ahhcj",
        "colab_type": "text"
      },
      "source": [
        "# **Project**"
      ]
    },
    {
      "cell_type": "code",
      "metadata": {
        "id": "BfHtl2HEkNnD",
        "colab_type": "code",
        "colab": {
          "base_uri": "https://localhost:8080/",
          "height": 70
        },
        "outputId": "7d2a2682-eb9c-4dff-84f8-a49e952738f4"
      },
      "source": [
        "lovely_loveseat_description = \"\"\"Lovely Loveseat. Tufted polyester blend on wood. 32 inches high x 40 inches wide x 30 inches deep. Red or white.\"\"\"\n",
        "lovely_loveseat_price = 254.00\n",
        "\n",
        "stylish_settee_description = \"\"\"Stylish Settee. Faux leather on birch. 29.50 inches high x 54.75 inches wide x 28 inches deep. Black.\"\"\"\n",
        "stylish_settee_price = 180.50\n",
        "\n",
        "luxurious_lamp_description = \"\"\"Luxurious Lamp. Glass and iron. 36 inches tall. Brown with cream shade.\"\"\"\n",
        "luxurious_lamp_price = 52.15\n",
        "\n",
        "sales_tax = 0.088\n",
        "\n",
        "# Our first customer is making their purchase!\n",
        "customer_one_total = 0\n",
        "customer_one_itemization = \"\"\n",
        "\n",
        "customer_one_total += lovely_loveseat_price\n",
        "customer_one_total += luxurious_lamp_price\n",
        "\n",
        "customer_one_itemization += lovely_loveseat_description\n",
        "customer_one_itemization += luxurious_lamp_description\n",
        "\n",
        "\n",
        "customer_one_tax = customer_one_total * sales_tax\n",
        "\n",
        "customer_one_total += customer_one_tax\n",
        "\n",
        "print(customer_one_itemization)\n",
        "\n",
        "print(customer_one_total)"
      ],
      "execution_count": 5,
      "outputs": [
        {
          "output_type": "stream",
          "text": [
            "Lovely Loveseat. Tufted polyester blend on wood. 32 inches high x 40 inches wide x 30 inches deep. Red or white.Luxurious Lamp. Glass and iron. 36 inches tall. Brown with cream shade.\n",
            "333.09119999999996\n"
          ],
          "name": "stdout"
        }
      ]
    },
    {
      "cell_type": "markdown",
      "metadata": {
        "id": "dpwC_ePEkcxz",
        "colab_type": "text"
      },
      "source": [
        "# **quiz**"
      ]
    },
    {
      "cell_type": "code",
      "metadata": {
        "id": "2a71Hcqrkg9h",
        "colab_type": "code",
        "colab": {}
      },
      "source": [
        ""
      ],
      "execution_count": null,
      "outputs": []
    },
    {
      "cell_type": "markdown",
      "metadata": {
        "id": "jbs9a1FEkgwg",
        "colab_type": "text"
      },
      "source": [
        ""
      ]
    }
  ]
}
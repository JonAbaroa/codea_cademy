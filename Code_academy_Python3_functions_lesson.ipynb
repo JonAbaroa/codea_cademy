{
  "nbformat": 4,
  "nbformat_minor": 0,
  "metadata": {
    "colab": {
      "name": "Code_academy_Python3_functions_lesson.ipynb",
      "provenance": [],
      "collapsed_sections": [],
      "authorship_tag": "ABX9TyN4n4VZaYpzz/AcPYQ78T8y",
      "include_colab_link": true
    },
    "kernelspec": {
      "name": "python3",
      "display_name": "Python 3"
    }
  },
  "cells": [
    {
      "cell_type": "markdown",
      "metadata": {
        "id": "view-in-github",
        "colab_type": "text"
      },
      "source": [
        "<a href=\"https://colab.research.google.com/github/JonAbaroa/codea_cademy/blob/master/Code_academy_Python3_functions_lesson.ipynb\" target=\"_parent\"><img src=\"https://colab.research.google.com/assets/colab-badge.svg\" alt=\"Open In Colab\"/></a>"
      ]
    },
    {
      "cell_type": "markdown",
      "metadata": {
        "id": "ECkJPEeEGZpI",
        "colab_type": "text"
      },
      "source": [
        "# **Turn up the Temperature**\n",
        "\n"
      ]
    },
    {
      "cell_type": "code",
      "metadata": {
        "id": "rO75UoW0KSJq",
        "colab_type": "code",
        "colab": {
          "base_uri": "https://localhost:8080/",
          "height": 33
        },
        "outputId": "54100145-7037-48a0-905b-d2dbc6899c28"
      },
      "source": [
        "def f_to_c(f_temp):\n",
        "  return (f_temp-32)*5/9\n",
        "\n",
        "f100_in_c_temp = f_to_c(100)\n",
        "print(f100_in_c_temp)\n",
        "\n",
        "#este es el ejemplodecodeacademy, el resto es invento mio"
      ],
      "execution_count": 10,
      "outputs": [
        {
          "output_type": "stream",
          "text": [
            "37.77777777777778\n"
          ],
          "name": "stdout"
        }
      ]
    },
    {
      "cell_type": "code",
      "metadata": {
        "id": "0R5jCEMtCjsG",
        "colab_type": "code",
        "colab": {
          "base_uri": "https://localhost:8080/",
          "height": 33
        },
        "outputId": "c4e0df01-4da5-4616-930e-b277ddc60094"
      },
      "source": [
        "f_temp = 100\n",
        "def f_to_c(f_temp):\n",
        "  return (f_temp-32)*5/9\n",
        "c_temp = f_to_c(f_temp)\n",
        "print(\"La Temperatura en (C) = \", c_temp)"
      ],
      "execution_count": 2,
      "outputs": [
        {
          "output_type": "stream",
          "text": [
            "La Temperatura en (C) =  37.77777777777778\n"
          ],
          "name": "stdout"
        }
      ]
    },
    {
      "cell_type": "code",
      "metadata": {
        "id": "RtfxU54DFp0t",
        "colab_type": "code",
        "colab": {
          "base_uri": "https://localhost:8080/",
          "height": 50
        },
        "outputId": "69453e94-4d1d-4efc-efc0-04bd9c0e3273"
      },
      "source": [
        "f_temp = int(input(\"metele cuantos grados farenheit\"))\n",
        "def f_to_c(f_temp):\n",
        "  return (f_temp-32)*(5/9)\n",
        "c_temp = f_to_c(f_temp)\n",
        "print(\"La Temperatura en (C) = \", c_temp)"
      ],
      "execution_count": 4,
      "outputs": [
        {
          "output_type": "stream",
          "text": [
            "metele cuantos grados farenheit0\n",
            "La Temperatura en (C) =  -17.77777777777778\n"
          ],
          "name": "stdout"
        }
      ]
    },
    {
      "cell_type": "code",
      "metadata": {
        "id": "nzahhL4lK97W",
        "colab_type": "code",
        "colab": {
          "base_uri": "https://localhost:8080/",
          "height": 33
        },
        "outputId": "9ab4691a-26ce-42ac-fff7-ef10eab8352a"
      },
      "source": [
        "# DE F A CELCIUS\n",
        "def c_to_f(c_temp):\n",
        "  return (c_temp*9/5)+32\n",
        "\n",
        "c0_in_f_temp = c_to_f(0)\n",
        "print(c0_in_f_temp)"
      ],
      "execution_count": 13,
      "outputs": [
        {
          "output_type": "stream",
          "text": [
            "32.0\n"
          ],
          "name": "stdout"
        }
      ]
    },
    {
      "cell_type": "markdown",
      "metadata": {
        "id": "BkJzqrhmGde9",
        "colab_type": "text"
      },
      "source": [
        "# **Use the Force**"
      ]
    },
    {
      "cell_type": "code",
      "metadata": {
        "id": "O1XvkAX9GjGc",
        "colab_type": "code",
        "colab": {
          "base_uri": "https://localhost:8080/",
          "height": 66
        },
        "outputId": "2538eff0-ec2d-4378-f40a-ae700cb439d5"
      },
      "source": [
        "mass = int(input(\"metele cuantos grados farenheit\"))\n",
        "acceleration = int(input(\"metele cuanta aceleracion\"))\n",
        "\n",
        "def get_force(mass,acceleration):\n",
        "  multiplicacion = mass * acceleration\n",
        "  return multiplicacion\n",
        "\n",
        "multiplicacion = get_force(mass,acceleration)\n",
        "print(\"el producto entre la masa y la aceleracion es: \",multiplicacion)"
      ],
      "execution_count": 9,
      "outputs": [
        {
          "output_type": "stream",
          "text": [
            "metele cuantos grados farenheit1\n",
            "metele cuanta aceleracion1\n",
            "el producto entre la masa y la aceleracion es:  1\n"
          ],
          "name": "stdout"
        }
      ]
    },
    {
      "cell_type": "code",
      "metadata": {
        "id": "XpesfuzPH__u",
        "colab_type": "code",
        "colab": {
          "base_uri": "https://localhost:8080/",
          "height": 33
        },
        "outputId": "77ddb5d2-dc76-4450-c1ee-c61862453caf"
      },
      "source": [
        "#este es el ejemplodecodeacademy, el resto es invento mio\n",
        "\n",
        "train_mass = 22680\n",
        "train_acceleration = 10\n",
        "train_distance = 100\n",
        "bomb_mass = 1\n",
        "\n",
        "def get_force(mass,acceleration):\n",
        "   return mass * acceleration\n",
        "\n",
        "print(train_force)"
      ],
      "execution_count": 18,
      "outputs": [
        {
          "output_type": "stream",
          "text": [
            "226800\n"
          ],
          "name": "stdout"
        }
      ]
    },
    {
      "cell_type": "code",
      "metadata": {
        "id": "LEQYqFa1NDyC",
        "colab_type": "code",
        "colab": {
          "base_uri": "https://localhost:8080/",
          "height": 33
        },
        "outputId": "fba02297-6030-4d99-f856-30837b7d1ee3"
      },
      "source": [
        "train_force = get_force(train_mass,train_acceleration)\n",
        "print(\"The GE train supplies \" + str(train_force) + \" Newtons of force.\")"
      ],
      "execution_count": 16,
      "outputs": [
        {
          "output_type": "stream",
          "text": [
            "The GE train supplies 226800 Newtons of force.\n"
          ],
          "name": "stdout"
        }
      ]
    },
    {
      "cell_type": "code",
      "metadata": {
        "id": "G9RzCj9GN5Po",
        "colab_type": "code",
        "colab": {
          "base_uri": "https://localhost:8080/",
          "height": 50
        },
        "outputId": "52120a7b-5167-4438-9f55-81150cbba2d7"
      },
      "source": [
        "bomb_mass = 1\n",
        "\n",
        "def get_energy(mass, c=3*10**8):\n",
        "  return mass * c**2\n",
        "\n",
        "bomb_energy = get_energy(bomb_mass)\n",
        "print(bomb_energy)\n",
        "\n",
        "print(\"A 1kg bomb supplies \",str(bomb_energy) ,\"joule\")"
      ],
      "execution_count": 33,
      "outputs": [
        {
          "output_type": "stream",
          "text": [
            "90000000000000000\n",
            "A 1kg bomb supplies  90000000000000000 joule\n"
          ],
          "name": "stdout"
        }
      ]
    },
    {
      "cell_type": "markdown",
      "metadata": {
        "id": "E8plHGoWGj4U",
        "colab_type": "text"
      },
      "source": [
        "# **Do the Work**"
      ]
    },
    {
      "cell_type": "code",
      "metadata": {
        "id": "oJ9qgaivRduq",
        "colab_type": "code",
        "colab": {
          "base_uri": "https://localhost:8080/",
          "height": 33
        },
        "outputId": "24a3319b-18dc-49f9-e19e-e36590a7152c"
      },
      "source": [
        "def get_work(mass, acceleration, distance):\n",
        "  force = get_force(mass,acceleration)\n",
        "  return force * distance\n",
        "\n",
        "train_work = get_work(train_mass, train_acceleration, train_distance)\n",
        "\n",
        "print(\"The GE train does \" + str(train_work) + \" Joules of work over\" +  str(train_distance) + \" meters.\")"
      ],
      "execution_count": 37,
      "outputs": [
        {
          "output_type": "stream",
          "text": [
            "The GE train does 22680000 Joules of work over100 meters.\n"
          ],
          "name": "stdout"
        }
      ]
    }
  ]
}
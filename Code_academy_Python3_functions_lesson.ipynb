{
  "nbformat": 4,
  "nbformat_minor": 0,
  "metadata": {
    "colab": {
      "name": "Code_academy_Python3_functions_lesson.ipynb",
      "provenance": [],
      "collapsed_sections": [
        "8Fp41IQUyVkz",
        "g44gEKXny-fp",
        "kNadBeyLzRwn",
        "1ytRgySQzyZ-",
        "jBiZPBCQ0jon",
        "XpHQjsoe1ITt",
        "bfnRZwxk2vX2",
        "l7qRcOUZ-1mj"
      ],
      "authorship_tag": "ABX9TyOqShWoRo/sHZep/RJCmatf",
      "include_colab_link": true
    },
    "kernelspec": {
      "name": "python3",
      "display_name": "Python 3"
    }
  },
  "cells": [
    {
      "cell_type": "markdown",
      "metadata": {
        "id": "view-in-github",
        "colab_type": "text"
      },
      "source": [
        "<a href=\"https://colab.research.google.com/github/JonAbaroa/codea_cademy/blob/master/Code_academy_Python3_functions_lesson.ipynb\" target=\"_parent\"><img src=\"https://colab.research.google.com/assets/colab-badge.svg\" alt=\"Open In Colab\"/></a>"
      ]
    },
    {
      "cell_type": "markdown",
      "metadata": {
        "id": "8Fp41IQUyVkz",
        "colab_type": "text"
      },
      "source": [
        "# **What is a Function?**"
      ]
    },
    {
      "cell_type": "code",
      "metadata": {
        "id": "VDc_FGq8mPIT",
        "colab_type": "code",
        "colab": {
          "base_uri": "https://localhost:8080/",
          "height": 50
        },
        "outputId": "50ce1496-9608-4e26-cda6-2761e8bccbcc"
      },
      "source": [
        "def cool_function():\n",
        "  print(\"I'm within the function!\")\n",
        "\n",
        "print(\"I'm outside of the function\")\n",
        "cool_function()"
      ],
      "execution_count": 1,
      "outputs": [
        {
          "output_type": "stream",
          "text": [
            "I'm outside of the function\n",
            "I'm within the function!\n"
          ],
          "name": "stdout"
        }
      ]
    },
    {
      "cell_type": "code",
      "metadata": {
        "id": "Uh332SQpy1Kx",
        "colab_type": "code",
        "colab": {
          "base_uri": "https://localhost:8080/",
          "height": 33
        },
        "outputId": "56238719-864b-46b3-9128-22626d4a78bd"
      },
      "source": [
        "cool_function()"
      ],
      "execution_count": 2,
      "outputs": [
        {
          "output_type": "stream",
          "text": [
            "I'm within the function!\n"
          ],
          "name": "stdout"
        }
      ]
    },
    {
      "cell_type": "markdown",
      "metadata": {
        "id": "g44gEKXny-fp",
        "colab_type": "text"
      },
      "source": [
        "# **Write a Function**"
      ]
    },
    {
      "cell_type": "code",
      "metadata": {
        "id": "79i9G6SyzAAn",
        "colab_type": "code",
        "colab": {
          "base_uri": "https://localhost:8080/",
          "height": 66
        },
        "outputId": "f94a929f-021a-453f-917b-af9dc4b00ee7"
      },
      "source": [
        "def greet_customer():\n",
        "  print(\"Welcome to Engrossing Grocers.\")\n",
        "  print(\"Our special is mandarin oranges.\")\n",
        "  print(\"Have fun shopping!\")\n",
        "\n",
        "greet_customer()\n",
        "# prints greeting lines"
      ],
      "execution_count": 3,
      "outputs": [
        {
          "output_type": "stream",
          "text": [
            "Welcome to Engrossing Grocers.\n",
            "Our special is mandarin oranges.\n",
            "Have fun shopping!\n"
          ],
          "name": "stdout"
        }
      ]
    },
    {
      "cell_type": "markdown",
      "metadata": {
        "id": "kNadBeyLzRwn",
        "colab_type": "text"
      },
      "source": [
        "# **Whitespace**"
      ]
    },
    {
      "cell_type": "code",
      "metadata": {
        "id": "hKSewtTJzSpI",
        "colab_type": "code",
        "colab": {
          "base_uri": "https://localhost:8080/",
          "height": 83
        },
        "outputId": "e3951ae8-dd49-4a04-f8dc-cc1435f6fc06"
      },
      "source": [
        "def greet_customer():\n",
        "  print(\"Welcome to Engrossing Grocers.\")\n",
        "  print(\"Our special is mandarin oranges.\")\n",
        "  print(\"Have fun shopping!\")\n",
        "print(\"Cleanup on Aisle 6\")\n",
        "greet_customer()"
      ],
      "execution_count": 5,
      "outputs": [
        {
          "output_type": "stream",
          "text": [
            "Cleanup on Aisle 6\n",
            "Welcome to Engrossing Grocers.\n",
            "Our special is mandarin oranges.\n",
            "Have fun shopping!\n"
          ],
          "name": "stdout"
        }
      ]
    },
    {
      "cell_type": "markdown",
      "metadata": {
        "id": "1ytRgySQzyZ-",
        "colab_type": "text"
      },
      "source": [
        "# **Parameters**"
      ]
    },
    {
      "cell_type": "code",
      "metadata": {
        "id": "iTM_TxRbzVJg",
        "colab_type": "code",
        "colab": {
          "base_uri": "https://localhost:8080/",
          "height": 83
        },
        "outputId": "d7b1e881-5feb-4bee-9529-f1f2bc46f0aa"
      },
      "source": [
        "special_item = input(\"la oferta de hoy es ¿?\")\n",
        "\n",
        "def greet_customer(special_item):\n",
        "  print(\"Welcome to Engrossing Grocers.\")\n",
        "  print(\"Our special is \" + special_item + \".\")\n",
        "  print(\"Have fun shopping!\")\n",
        "\n",
        "greet_customer(special_item)"
      ],
      "execution_count": 10,
      "outputs": [
        {
          "output_type": "stream",
          "text": [
            "la oferta de hoy es ¿?lechita\n",
            "Welcome to Engrossing Grocers.\n",
            "Our special is lechita.\n",
            "Have fun shopping!\n"
          ],
          "name": "stdout"
        }
      ]
    },
    {
      "cell_type": "markdown",
      "metadata": {
        "id": "jBiZPBCQ0jon",
        "colab_type": "text"
      },
      "source": [
        "# **Multiple Parameters**"
      ]
    },
    {
      "cell_type": "code",
      "metadata": {
        "id": "TSSKfYar0lel",
        "colab_type": "code",
        "colab": {}
      },
      "source": [
        "def greet_customer(grocery_store, special_item):\n",
        "  print(\"Welcome to \"+ grocery_store + \".\")\n",
        "  print(\"Our special is \" + special_item + \".\")\n",
        "  print(\"Have fun shopping!\")"
      ],
      "execution_count": 11,
      "outputs": []
    },
    {
      "cell_type": "code",
      "metadata": {
        "id": "sNarUfga1CXF",
        "colab_type": "code",
        "colab": {
          "base_uri": "https://localhost:8080/",
          "height": 66
        },
        "outputId": "174e820a-1724-472d-ec4d-34a05a018d99"
      },
      "source": [
        "greet_customer(\"Stu's Staples\", \"papayas\")"
      ],
      "execution_count": 12,
      "outputs": [
        {
          "output_type": "stream",
          "text": [
            "Welcome to Stu's Staples.\n",
            "Our special is papayas.\n",
            "Have fun shopping!\n"
          ],
          "name": "stdout"
        }
      ]
    },
    {
      "cell_type": "markdown",
      "metadata": {
        "id": "XpHQjsoe1ITt",
        "colab_type": "text"
      },
      "source": [
        "# **Keyword Arguments**"
      ]
    },
    {
      "cell_type": "code",
      "metadata": {
        "id": "j9p9oYC11KMc",
        "colab_type": "code",
        "colab": {}
      },
      "source": [
        "def greet_customer(grocery_store, special_item):\n",
        "  print(\"Welcome to \"+ grocery_store + \".\")\n",
        "  print(\"Our special is \" + special_item + \".\")\n",
        "  print(\"Have fun shopping!\")"
      ],
      "execution_count": null,
      "outputs": []
    },
    {
      "cell_type": "code",
      "metadata": {
        "id": "3pPBZhvy1eoL",
        "colab_type": "code",
        "colab": {
          "base_uri": "https://localhost:8080/",
          "height": 66
        },
        "outputId": "18820f69-0dd4-4e9e-ae0e-610a75602b92"
      },
      "source": [
        "greet_customer(special_item=\"chips and salsa\", grocery_store=\"Stu's Staples\")"
      ],
      "execution_count": 13,
      "outputs": [
        {
          "output_type": "stream",
          "text": [
            "Welcome to Stu's Staples.\n",
            "Our special is chips and salsa.\n",
            "Have fun shopping!\n"
          ],
          "name": "stdout"
        }
      ]
    },
    {
      "cell_type": "code",
      "metadata": {
        "id": "P6UTh7fm1qR7",
        "colab_type": "code",
        "colab": {}
      },
      "source": [
        "def greet_customer(special_item, grocery_store=\"Engrossing Grocers\"):\n",
        "  print(\"Welcome to \"+ grocery_store + \".\")\n",
        "  print(\"Our special is \" + special_item + \".\")\n",
        "  print(\"Have fun shopping!\")"
      ],
      "execution_count": 14,
      "outputs": []
    },
    {
      "cell_type": "code",
      "metadata": {
        "id": "EV4hM08r18ZC",
        "colab_type": "code",
        "colab": {
          "base_uri": "https://localhost:8080/",
          "height": 66
        },
        "outputId": "7f88c916-46f3-4343-a53c-56303eade2f0"
      },
      "source": [
        "greet_customer(\"bananas\")"
      ],
      "execution_count": 15,
      "outputs": [
        {
          "output_type": "stream",
          "text": [
            "Welcome to Engrossing Grocers.\n",
            "Our special is bananas.\n",
            "Have fun shopping!\n"
          ],
          "name": "stdout"
        }
      ]
    },
    {
      "cell_type": "code",
      "metadata": {
        "id": "VyzPeh-o2Emq",
        "colab_type": "code",
        "colab": {}
      },
      "source": [
        "def greet_customer(special_item=\"bananas\", grocery_store): # this is not valid\n",
        "def greet_customer(special_item, grocery_store=\"Engrossing Grocers\"): # this is valid"
      ],
      "execution_count": null,
      "outputs": []
    },
    {
      "cell_type": "code",
      "metadata": {
        "id": "_j90OMxf2SDi",
        "colab_type": "code",
        "colab": {
          "base_uri": "https://localhost:8080/",
          "height": 33
        },
        "outputId": "2072f31e-1c19-43f1-8e65-4c6417de9c2f"
      },
      "source": [
        "def create_spreadsheet(title, row_count = 1000):\n",
        "  print(\"Creating a spreadsheet called \"+title+\" with \"+str(row_count)+\" rows.\")\n",
        "  \n",
        "create_spreadsheet(\"Downloads\")\n"
      ],
      "execution_count": 16,
      "outputs": [
        {
          "output_type": "stream",
          "text": [
            "Creating a spreadsheet called Downloads with 1000 rows.\n"
          ],
          "name": "stdout"
        }
      ]
    },
    {
      "cell_type": "code",
      "metadata": {
        "id": "Jpve26q42c2S",
        "colab_type": "code",
        "colab": {
          "base_uri": "https://localhost:8080/",
          "height": 33
        },
        "outputId": "c5e2ea21-46d4-4b3d-e074-9c94079bcb28"
      },
      "source": [
        "create_spreadsheet(\"Applications\", 10)"
      ],
      "execution_count": 17,
      "outputs": [
        {
          "output_type": "stream",
          "text": [
            "Creating a spreadsheet called Applications with 10 rows.\n"
          ],
          "name": "stdout"
        }
      ]
    },
    {
      "cell_type": "markdown",
      "metadata": {
        "id": "bfnRZwxk2vX2",
        "colab_type": "text"
      },
      "source": [
        "# **Returns**"
      ]
    },
    {
      "cell_type": "code",
      "metadata": {
        "id": "H44QH_dr2xQg",
        "colab_type": "code",
        "colab": {}
      },
      "source": [
        "def divide_by_four(input_number):\n",
        "  return input_number/4"
      ],
      "execution_count": 21,
      "outputs": []
    },
    {
      "cell_type": "code",
      "metadata": {
        "id": "LoIr2QOy3GuI",
        "colab_type": "code",
        "colab": {
          "base_uri": "https://localhost:8080/",
          "height": 50
        },
        "outputId": "376736b1-0006-4d04-9184-b98ad3e3bb81"
      },
      "source": [
        "result = divide_by_four(16)\n",
        "# result now holds 4\n",
        "print(\"16 divided by 4 is \" + str(result) + \"!\")\n",
        "result2 = divide_by_four(result)\n",
        "print(str(result) + \" divided by 4 is \" + str(result2) + \"!\")"
      ],
      "execution_count": 22,
      "outputs": [
        {
          "output_type": "stream",
          "text": [
            "16 divided by 4 is 4.0!\n",
            "4.0 divided by 4 is 1.0!\n"
          ],
          "name": "stdout"
        }
      ]
    },
    {
      "cell_type": "code",
      "metadata": {
        "id": "ydEHVIDP38aR",
        "colab_type": "code",
        "colab": {
          "base_uri": "https://localhost:8080/",
          "height": 66
        },
        "outputId": "97a60605-f5dd-4f21-faa0-d10c9803f422"
      },
      "source": [
        "a= int(input(\"ingrese numerillo entero\"))\n",
        "result = divide_by_four(a)\n",
        "# result now holds 4\n",
        "print(a,\"divided by 4 is \" + str(result) + \"!\")\n",
        "result2 = divide_by_four(result)\n",
        "print(str(result) + \" divided by 4 is \" + str(result2) + \"!\")"
      ],
      "execution_count": 24,
      "outputs": [
        {
          "output_type": "stream",
          "text": [
            "ingrese numerillo entero16\n",
            "16 divided by 4 is 4.0!\n",
            "4.0 divided by 4 is 1.0!\n"
          ],
          "name": "stdout"
        }
      ]
    },
    {
      "cell_type": "code",
      "metadata": {
        "id": "DRryTpPk787D",
        "colab_type": "code",
        "colab": {
          "base_uri": "https://localhost:8080/",
          "height": 33
        },
        "outputId": "753c5752-05dc-4fdb-ad1c-15bb8d67b1d0"
      },
      "source": [
        "def create_special_string(special_item):\n",
        "  return \"Our special is \" + special_item + \".\"\n",
        "\n",
        "special_string = create_special_string(\"banana yogurt\")\n",
        "\n",
        "# Our special is banana yogurt.\n",
        "\n",
        "print(special_string)\n"
      ],
      "execution_count": 25,
      "outputs": [
        {
          "output_type": "stream",
          "text": [
            "Our special is banana yogurt.\n"
          ],
          "name": "stdout"
        }
      ]
    },
    {
      "cell_type": "code",
      "metadata": {
        "id": "3GRK7w8088mo",
        "colab_type": "code",
        "colab": {
          "base_uri": "https://localhost:8080/",
          "height": 50
        },
        "outputId": "b3fdce26-6e49-471c-cea5-25590c682e44"
      },
      "source": [
        "def calculate_age(current_year, birth_year):\n",
        "  age = current_year - birth_year\n",
        "  return age\n",
        "  \n",
        "my_age = calculate_age(2020, 1984)\n",
        "\n",
        "dads_age = calculate_age(2020, 1955)\n",
        "\n",
        "abuelo_age = calculate_age(2020, 1918)\n",
        "\n",
        "print(\"I am \"+str(my_age)+\" years old and my dad is \"+str(dads_age)+\" years old\")\n",
        "print(\"and my ABUELO is \"+str(abuelo_age)+\" years old\")"
      ],
      "execution_count": 27,
      "outputs": [
        {
          "output_type": "stream",
          "text": [
            "I am 36 years old and my dad is 65 years old\n",
            "and my ABUELO is 102 years old\n"
          ],
          "name": "stdout"
        }
      ]
    },
    {
      "cell_type": "markdown",
      "metadata": {
        "id": "l7qRcOUZ-1mj",
        "colab_type": "text"
      },
      "source": [
        "# **Multiple Return Values**"
      ]
    },
    {
      "cell_type": "code",
      "metadata": {
        "id": "3-YEi7DE-3HS",
        "colab_type": "code",
        "colab": {
          "base_uri": "https://localhost:8080/",
          "height": 50
        },
        "outputId": "720ce172-4ca1-4499-867d-7ff070385363"
      },
      "source": [
        "def square_point(x_value, y_value):\n",
        "  x_2 = x_value * x_value\n",
        "  y_2 = y_value * y_value\n",
        "  return x_2, y_2\n",
        "\n",
        "x_squared, y_squared = square_point(1, 3)\n",
        "print(x_squared)\n",
        "print(y_squared)"
      ],
      "execution_count": 33,
      "outputs": [
        {
          "output_type": "stream",
          "text": [
            "1\n",
            "9\n"
          ],
          "name": "stdout"
        }
      ]
    },
    {
      "cell_type": "code",
      "metadata": {
        "id": "rmDrp_z7A5eC",
        "colab_type": "code",
        "colab": {
          "base_uri": "https://localhost:8080/",
          "height": 50
        },
        "outputId": "299d65de-009d-405e-a07a-efdc5fc40ec0"
      },
      "source": [
        "x, y = square_point(2, 4)\n",
        "print(x)\n",
        "print(y)"
      ],
      "execution_count": 34,
      "outputs": [
        {
          "output_type": "stream",
          "text": [
            "4\n",
            "16\n"
          ],
          "name": "stdout"
        }
      ]
    },
    {
      "cell_type": "code",
      "metadata": {
        "id": "cVNtsTcDBE8n",
        "colab_type": "code",
        "colab": {
          "base_uri": "https://localhost:8080/",
          "height": 50
        },
        "outputId": "5d129d06-cdeb-4f47-b161-c5ea12c7c056"
      },
      "source": [
        "\n",
        "def get_boundaries(target, margin):\n",
        "  low_limit = target - margin\n",
        "  high_limit = margin + target\n",
        "  return low_limit, high_limit\n",
        "\n",
        "low_limit, high_limit = get_boundaries(1000, 300)\n",
        "print(str(low_limit))\n",
        "print(str(high_limit))"
      ],
      "execution_count": 35,
      "outputs": [
        {
          "output_type": "stream",
          "text": [
            "700\n",
            "1300\n"
          ],
          "name": "stdout"
        }
      ]
    },
    {
      "cell_type": "markdown",
      "metadata": {
        "id": "PVWFCvrOBQO0",
        "colab_type": "text"
      },
      "source": [
        "# **Scope**"
      ]
    },
    {
      "cell_type": "code",
      "metadata": {
        "id": "etl4jaIIBSKe",
        "colab_type": "code",
        "colab": {
          "base_uri": "https://localhost:8080/",
          "height": 33
        },
        "outputId": "6b7dcb65-53a9-4d80-a02a-6143b7e5d727"
      },
      "source": [
        "header_string = \"Our special is \" \n",
        "\n",
        "def create_special_string(special_item):\n",
        "  return header_string + special_item + \".\"\n",
        "print(create_special_string(\"grapes\"))"
      ],
      "execution_count": 36,
      "outputs": [
        {
          "output_type": "stream",
          "text": [
            "Our special is grapes.\n"
          ],
          "name": "stdout"
        }
      ]
    },
    {
      "cell_type": "code",
      "metadata": {
        "id": "soHlkVnOB8yt",
        "colab_type": "code",
        "colab": {
          "base_uri": "https://localhost:8080/",
          "height": 50
        },
        "outputId": "e6a50704-a29c-4ff6-af33-013322104dfc"
      },
      "source": [
        "current_year = 2048\n",
        "\n",
        "def calculate_age(birth_year):\n",
        "  age = current_year - birth_year\n",
        "  return age\n",
        "\n",
        "print(current_year)\n",
        "print(calculate_age(1970))"
      ],
      "execution_count": 37,
      "outputs": [
        {
          "output_type": "stream",
          "text": [
            "2048\n",
            "78\n"
          ],
          "name": "stdout"
        }
      ]
    }
  ]
}